{
 "cells": [
  {
   "cell_type": "markdown",
   "id": "43e4ff22-8d89-4177-a6d5-8c69c8fd65fc",
   "metadata": {},
   "source": [
    "# Project Proposal\n",
    "\n",
    "Connie Xiao"
   ]
  },
  {
   "cell_type": "markdown",
   "id": "48f13ba9-cf96-4ab3-9565-946fbd496d83",
   "metadata": {},
   "source": [
    "The Yelp platform is one of the most established resources, the general public rely on it to hunt for cuisines, dishes and restaurants. Yelp is a user interactive app that lets users rate business, suggest tips, upload pictures, and leave reviews. The goal of this project is to analyze reviews left by users in the restaurant business. Natural Language Processing and Machine Learning can be applied to extract actionable insights from the customer reviews about their experiences. \n",
    "\n",
    "This is particularly helpful for restaurant owners who can gauge user sentiment about their restaurant, areas where their business is lacking, which dishes are doing well and what users are saying about their competitors - they can take appropriate steps to improve their business.\n",
    "\n",
    "\n",
    "The data is obtained from their [website](https://www.yelp.com/dataset). It contains 4 JSON files: tips, reviews, business, and checkin. For the scope of this project we will be focusing on business and reviews files.\n",
    "\n",
    "The data set contains about 160,000 of all business and over 8,000,000 reviews of all businesses. There are 14 columns in the business dataset and 9 column in the reviews dataset.\n",
    "\n",
    "Topic modeling will be done to determine the aspects of a restaurant business that a user has deemed as negative/positive via reviews.   \n",
    "\n",
    "Tools:\n",
    "- nltk\n",
    "- Matplotlib and Seaborn\n",
    "- Tableau\n",
    "- spaCy\n",
    "- Pandas\n",
    "- Sklearn"
   ]
  }
 ],
 "metadata": {
  "kernelspec": {
   "display_name": "Python [conda env:metis] *",
   "language": "python",
   "name": "conda-env-metis-py"
  },
  "language_info": {
   "codemirror_mode": {
    "name": "ipython",
    "version": 3
   },
   "file_extension": ".py",
   "mimetype": "text/x-python",
   "name": "python",
   "nbconvert_exporter": "python",
   "pygments_lexer": "ipython3",
   "version": "3.8.10"
  }
 },
 "nbformat": 4,
 "nbformat_minor": 5
}
