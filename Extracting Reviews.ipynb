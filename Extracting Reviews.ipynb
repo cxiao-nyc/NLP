{
 "cells": [
  {
   "cell_type": "code",
   "execution_count": 1,
   "id": "014c1378",
   "metadata": {},
   "outputs": [],
   "source": [
    "import pandas as pd"
   ]
  },
  {
   "cell_type": "code",
   "execution_count": 2,
   "id": "6b56f620",
   "metadata": {},
   "outputs": [],
   "source": [
    "size = 3000000\n",
    "\n",
    "review = pd.read_json('archive/yelp_academic_dataset_review.json', lines=True, dtype={'review_id':str,\n",
    "                                                                                      'user_id':str,\n",
    "                                                                                      'business_id':str,\n",
    "                                                                                      'stars': int,\n",
    "                                                                                      'date':str,\n",
    "                                                                                      'text':str,\n",
    "                                                                                      'useful':int,\n",
    "                                                                                      'funny':int,\n",
    "                                                                                      'cool':int},\n",
    "                      chunksize=size)"
   ]
  },
  {
   "cell_type": "code",
   "execution_count": 3,
   "id": "ccc49157",
   "metadata": {},
   "outputs": [],
   "source": [
    "business = pd.read_csv('boston_restaurants.csv', index_col=0)"
   ]
  },
  {
   "cell_type": "code",
   "execution_count": 4,
   "id": "0e93b9cc",
   "metadata": {},
   "outputs": [
    {
     "name": "stdout",
     "output_type": "stream",
     "text": [
      "192051 out of 3,000,000, related reviews\n",
      "172846 out of 3,000,000, related reviews\n",
      "167735 out of 3,000,000, related reviews\n"
     ]
    }
   ],
   "source": [
    "chunk_list = []\n",
    "\n",
    "for chunk_review in review:\n",
    "    chunk_merged = pd.merge(business, chunk_review, on='business_id', how='inner')\n",
    "    print(f'{chunk_merged.shape[0]} out of {size:,}, related reviews')\n",
    "    chunk_list.append(chunk_merged)\n",
    "    "
   ]
  },
  {
   "cell_type": "code",
   "execution_count": 5,
   "id": "ab4ce411",
   "metadata": {},
   "outputs": [],
   "source": [
    "reviews = pd.concat(chunk_list, ignore_index=True, join='outer', axis=0)"
   ]
  },
  {
   "cell_type": "code",
   "execution_count": 7,
   "id": "29c86dbd",
   "metadata": {},
   "outputs": [],
   "source": [
    "reviews.to_csv('reviews.csv')"
   ]
  }
 ],
 "metadata": {
  "kernelspec": {
   "display_name": "Python [conda env:metis] *",
   "language": "python",
   "name": "conda-env-metis-py"
  },
  "language_info": {
   "codemirror_mode": {
    "name": "ipython",
    "version": 3
   },
   "file_extension": ".py",
   "mimetype": "text/x-python",
   "name": "python",
   "nbconvert_exporter": "python",
   "pygments_lexer": "ipython3",
   "version": "3.8.10"
  }
 },
 "nbformat": 4,
 "nbformat_minor": 5
}
